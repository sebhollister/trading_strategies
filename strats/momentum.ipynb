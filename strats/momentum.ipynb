{
 "cells": [
  {
   "cell_type": "markdown",
   "metadata": {},
   "source": [
    "### MOMENTUM STRAT"
   ]
  },
  {
   "cell_type": "code",
   "execution_count": 1,
   "metadata": {},
   "outputs": [],
   "source": [
    "import sys\n",
    "sys.path.append('../')\n",
    "from feature_ext import price_momentum as pm\n",
    "from models import votingClassifierM as vc\n",
    "from list_generators import sp_indexes as sp"
   ]
  },
  {
   "cell_type": "code",
   "execution_count": 2,
   "metadata": {
    "scrolled": true
   },
   "outputs": [
    {
     "name": "stdout",
     "output_type": "stream",
     "text": [
      "Data spread: AAL  Counter({'-1': 112, '1': 99, '0': 42})\n"
     ]
    }
   ],
   "source": [
    "X, y, df = pm.extract_featuresets(\"AAL\")"
   ]
  },
  {
   "cell_type": "code",
   "execution_count": 3,
   "metadata": {},
   "outputs": [
    {
     "data": {
      "text/plain": [
       "(-1, 0.421875)"
      ]
     },
     "execution_count": 3,
     "metadata": {},
     "output_type": "execute_result"
    }
   ],
   "source": [
    "vc.train_test(X, y, \"AAL\")"
   ]
  },
  {
   "cell_type": "code",
   "execution_count": null,
   "metadata": {},
   "outputs": [
    {
     "name": "stdout",
     "output_type": "stream",
     "text": [
      "Data spread: MMM  Counter({'1': 100, '-1': 89, '0': 64})\n",
      "MMM accuracy: 0.21875. Action: 0. Average accuracy:0.21875\n",
      "0 / 500 trained\n",
      "\n",
      "Data spread: ABT  Counter({'1': 103, '0': 82, '-1': 68})\n",
      "ABT accuracy: 0.3125. Action: -1. Average accuracy:0.265625\n",
      "\n",
      "Data spread: ABBV  Counter({'1': 105, '-1': 85, '0': 63})\n",
      "ABBV accuracy: 0.34375. Action: 1. Average accuracy:0.2916666666666667\n",
      "\n",
      "Data spread: ABMD  Counter({'-1': 116, '1': 94, '0': 43})\n",
      "ABMD accuracy: 0.515625. Action: -1. Average accuracy:0.34765625\n",
      "\n",
      "Data spread: ACN  Counter({'1': 124, '0': 89, '-1': 40})\n",
      "ACN accuracy: 0.453125. Action: 1. Average accuracy:0.36875\n",
      "\n",
      "Data spread: ATVI  Counter({'1': 111, '-1': 84, '0': 58})\n",
      "ATVI accuracy: 0.359375. Action: -1. Average accuracy:0.3671875\n",
      "\n",
      "Data spread: ADBE  Counter({'1': 126, '-1': 66, '0': 61})\n",
      "ADBE accuracy: 0.453125. Action: 1. Average accuracy:0.3794642857142857\n",
      "\n",
      "Data spread: AMD  Counter({'1': 135, '-1': 77, '0': 41})\n",
      "AMD accuracy: 0.578125. Action: 1. Average accuracy:0.404296875\n",
      "\n",
      "Data spread: AAP  Counter({'1': 104, '-1': 97, '0': 52})\n",
      "AAP accuracy: 0.296875. Action: 1. Average accuracy:0.3923611111111111\n",
      "\n",
      "Data spread: AES  Counter({'1': 124, '0': 70, '-1': 59})\n",
      "AES accuracy: 0.359375. Action: 1. Average accuracy:0.3890625\n",
      "\n",
      "Data spread: AFL  Counter({'0': 121, '1': 86, '-1': 46})\n",
      "AFL accuracy: 0.546875. Action: 1. Average accuracy:0.4034090909090909\n",
      "10 / 500 trained\n",
      "\n",
      "Data spread: A  Counter({'1': 128, '-1': 66, '0': 59})\n",
      "A accuracy: 0.375. Action: 1. Average accuracy:0.4010416666666667\n",
      "\n",
      "Data spread: APD  Counter({'1': 122, '0': 77, '-1': 54})\n",
      "APD accuracy: 0.375. Action: 1. Average accuracy:0.39903846153846156\n",
      "\n",
      "Data spread: AKAM  Counter({'1': 123, '0': 66, '-1': 64})\n",
      "AKAM accuracy: 0.3125. Action: 1. Average accuracy:0.39285714285714285\n",
      "\n",
      "Data spread: ALK  Counter({'1': 106, '-1': 88, '0': 59})\n",
      "ALK accuracy: 0.359375. Action: -1. Average accuracy:0.390625\n",
      "\n",
      "Data spread: ALB  Counter({'-1': 105, '1': 101, '0': 47})\n",
      "ALB accuracy: 0.34375. Action: -1. Average accuracy:0.3876953125\n",
      "\n",
      "Data spread: ARE  Counter({'1': 116, '0': 95, '-1': 42})\n",
      "ARE accuracy: 0.359375. Action: 0. Average accuracy:0.3860294117647059\n",
      "\n",
      "Data spread: ALXN  Counter({'1': 106, '-1': 100, '0': 47})\n",
      "ALXN accuracy: 0.375. Action: 1. Average accuracy:0.3854166666666667\n",
      "\n",
      "Data spread: ALGN  Counter({'1': 132, '-1': 80, '0': 41})\n",
      "ALGN accuracy: 0.375. Action: 1. Average accuracy:0.3848684210526316\n",
      "\n",
      "Data spread: ALLE  Counter({'1': 121, '0': 77, '-1': 55})\n",
      "ALLE accuracy: 0.328125. Action: 1. Average accuracy:0.38203125\n",
      "\n",
      "Data spread: AGN  Counter({'1': 108, '0': 77, '-1': 68})\n",
      "AGN accuracy: 0.359375. Action: 0. Average accuracy:0.38095238095238093\n",
      "20 / 500 trained\n",
      "\n",
      "Data spread: ADS  Counter({'-1': 116, '1': 96, '0': 41})\n",
      "ADS accuracy: 0.421875. Action: -1. Average accuracy:0.3828125\n",
      "\n",
      "Data spread: LNT  Counter({'0': 109, '1': 107, '-1': 37})\n",
      "LNT accuracy: 0.328125. Action: 0. Average accuracy:0.3804347826086957\n",
      "\n",
      "Data spread: ALL  Counter({'1': 113, '0': 94, '-1': 46})\n",
      "ALL accuracy: 0.421875. Action: 1. Average accuracy:0.3821614583333333\n",
      "\n",
      "Data spread: GOOGL  Counter({'1': 116, '0': 81, '-1': 56})\n",
      "GOOGL accuracy: 0.40625. Action: -1. Average accuracy:0.383125\n",
      "\n",
      "Data spread: GOOG  Counter({'1': 116, '0': 80, '-1': 57})\n",
      "GOOG accuracy: 0.328125. Action: 1. Average accuracy:0.38100961538461536\n",
      "\n",
      "Data spread: MO  Counter({'1': 108, '-1': 78, '0': 67})\n",
      "MO accuracy: 0.28125. Action: 1. Average accuracy:0.3773148148148148\n",
      "\n",
      "Data spread: AMZN  Counter({'1': 112, '-1': 79, '0': 62})\n",
      "AMZN accuracy: 0.359375. Action: 1. Average accuracy:0.37667410714285715\n",
      "\n",
      "Data spread: AMCR  Counter({'1': 97, '0': 92, '-1': 64})\n",
      "AMCR accuracy: 0.234375. Action: 0. Average accuracy:0.37176724137931033\n",
      "\n",
      "Data spread: AEE  Counter({'1': 101, '0': 95, '-1': 57})\n",
      "AEE accuracy: 0.359375. Action: 1. Average accuracy:0.37135416666666665\n",
      "\n",
      "Data spread: AAL  Counter({'-1': 112, '1': 99, '0': 42})\n",
      "AAL accuracy: 0.453125. Action: -1. Average accuracy:0.37399193548387094\n",
      "30 / 500 trained\n",
      "\n",
      "Data spread: AEP  Counter({'1': 112, '0': 98, '-1': 43})\n",
      "AEP accuracy: 0.453125. Action: 1. Average accuracy:0.37646484375\n",
      "\n",
      "Data spread: AXP  Counter({'1': 112, '0': 85, '-1': 56})\n",
      "AXP accuracy: 0.34375. Action: -1. Average accuracy:0.37547348484848486\n",
      "\n",
      "Data spread: AIG  Counter({'1': 111, '-1': 79, '0': 63})\n",
      "AIG accuracy: 0.375. Action: 1. Average accuracy:0.37545955882352944\n",
      "\n",
      "Data spread: AMT  Counter({'1': 134, '0': 69, '-1': 50})\n",
      "AMT accuracy: 0.46875. Action: 1. Average accuracy:0.378125\n",
      "\n",
      "Data spread: AWK  Counter({'1': 119, '0': 87, '-1': 47})\n",
      "AWK accuracy: 0.375. Action: -1. Average accuracy:0.3780381944444444\n",
      "\n",
      "Data spread: AMP  Counter({'1': 123, '0': 72, '-1': 58})\n",
      "AMP accuracy: 0.40625. Action: 0. Average accuracy:0.37880067567567566\n",
      "\n",
      "Data spread: ABC  Counter({'1': 108, '-1': 92, '0': 53})\n",
      "ABC accuracy: 0.265625. Action: 1. Average accuracy:0.37582236842105265\n",
      "\n",
      "Data spread: AME  Counter({'1': 107, '0': 101, '-1': 45})\n",
      "AME accuracy: 0.28125. Action: 0. Average accuracy:0.3733974358974359\n",
      "\n",
      "Data spread: AMGN  Counter({'1': 113, '0': 70, '-1': 70})\n",
      "AMGN accuracy: 0.3125. Action: 0. Average accuracy:0.371875\n",
      "\n",
      "Data spread: APH  Counter({'1': 123, '0': 71, '-1': 59})\n",
      "APH accuracy: 0.46875. Action: 1. Average accuracy:0.3742378048780488\n",
      "40 / 500 trained\n",
      "\n",
      "Data spread: ADI  Counter({'1': 130, '-1': 70, '0': 53})\n",
      "ADI accuracy: 0.328125. Action: -1. Average accuracy:0.37313988095238093\n",
      "\n",
      "Data spread: ANSS  Counter({'1': 131, '0': 70, '-1': 52})\n",
      "ANSS accuracy: 0.515625. Action: -1. Average accuracy:0.376453488372093\n",
      "\n",
      "Data spread: ANTM  Counter({'1': 112, '-1': 87, '0': 54})\n",
      "ANTM accuracy: 0.453125. Action: -1. Average accuracy:0.3781960227272727\n",
      "\n"
     ]
    }
   ],
   "source": [
    "sp500 = sp.get_sp500()\n",
    "long, short = vc.test_all(sp500)"
   ]
  },
  {
   "cell_type": "code",
   "execution_count": null,
   "metadata": {},
   "outputs": [],
   "source": [
    "long"
   ]
  },
  {
   "cell_type": "code",
   "execution_count": null,
   "metadata": {},
   "outputs": [],
   "source": [
    "short"
   ]
  },
  {
   "cell_type": "code",
   "execution_count": null,
   "metadata": {},
   "outputs": [],
   "source": []
  }
 ],
 "metadata": {
  "kernelspec": {
   "display_name": "Python 3",
   "language": "python",
   "name": "python3"
  },
  "language_info": {
   "codemirror_mode": {
    "name": "ipython",
    "version": 3
   },
   "file_extension": ".py",
   "mimetype": "text/x-python",
   "name": "python",
   "nbconvert_exporter": "python",
   "pygments_lexer": "ipython3",
   "version": "3.7.3"
  }
 },
 "nbformat": 4,
 "nbformat_minor": 2
}
